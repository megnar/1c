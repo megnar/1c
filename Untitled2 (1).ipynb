{
  "nbformat": 4,
  "nbformat_minor": 0,
  "metadata": {
    "colab": {
      "name": "Untitled2.ipynb",
      "provenance": []
    },
    "kernelspec": {
      "name": "python3",
      "display_name": "Python 3"
    },
    "language_info": {
      "name": "python"
    }
  },
  "cells": [
    {
      "cell_type": "code",
      "metadata": {
        "colab": {
          "base_uri": "https://localhost:8080/"
        },
        "id": "qk0lNhno0LzH",
        "outputId": "6cee2361-82b2-464e-a1ea-f54962d64593"
      },
      "source": [
        "!pip3 install pillow 4.1.1"
      ],
      "execution_count": null,
      "outputs": [
        {
          "output_type": "stream",
          "text": [
            "Requirement already satisfied: pillow in /usr/local/lib/python3.7/dist-packages (7.1.2)\n",
            "\u001b[31mERROR: Could not find a version that satisfies the requirement 4.1.1 (from versions: none)\u001b[0m\n",
            "\u001b[31mERROR: No matching distribution found for 4.1.1\u001b[0m\n"
          ],
          "name": "stdout"
        }
      ]
    },
    {
      "cell_type": "code",
      "metadata": {
        "id": "_n8AuRa72NdG",
        "colab": {
          "base_uri": "https://localhost:8080/"
        },
        "outputId": "4189f8f2-c7e2-4df9-d257-cf41a6bd03bd"
      },
      "source": [
        "!pip3 install pillow 4.1.1\n",
        "import matplotlib.pyplot as plt\n",
        "from PIL import Image\n",
        "!wget https://i.ibb.co/6sRc6NQ/png-transparent-tic-tac-toe-christian-cross-christian-cross-game-angle-text-1.png -O pict.png\n",
        "\n",
        "\n",
        "\n",
        "\n",
        "\n",
        "\n"
      ],
      "execution_count": 103,
      "outputs": [
        {
          "output_type": "stream",
          "text": [
            "Requirement already satisfied: pillow in /usr/local/lib/python3.7/dist-packages (7.1.2)\n",
            "\u001b[31mERROR: Could not find a version that satisfies the requirement 4.1.1 (from versions: none)\u001b[0m\n",
            "\u001b[31mERROR: No matching distribution found for 4.1.1\u001b[0m\n",
            "--2021-04-14 17:54:39--  https://i.ibb.co/6sRc6NQ/png-transparent-tic-tac-toe-christian-cross-christian-cross-game-angle-text-1.png\n",
            "Resolving i.ibb.co (i.ibb.co)... 146.59.152.166, 145.239.131.51, 145.239.131.55, ...\n",
            "Connecting to i.ibb.co (i.ibb.co)|146.59.152.166|:443... connected.\n",
            "HTTP request sent, awaiting response... 200 OK\n",
            "Length: 7593 (7.4K) [image/png]\n",
            "Saving to: ‘pict.png’\n",
            "\n",
            "pict.png            100%[===================>]   7.42K  --.-KB/s    in 0s      \n",
            "\n",
            "2021-04-14 17:54:40 (109 MB/s) - ‘pict.png’ saved [7593/7593]\n",
            "\n"
          ],
          "name": "stdout"
        }
      ]
    },
    {
      "cell_type": "code",
      "metadata": {
        "colab": {
          "base_uri": "https://localhost:8080/",
          "height": 272
        },
        "id": "x6PqKcygf414",
        "outputId": "665f483f-0bbe-4fef-8d78-8acbb8514c23"
      },
      "source": [
        "image = Image.open(\"pict.png\")\n",
        "import numpy as np\n",
        "image= image.convert('1')\n",
        "print(a.shape) \n",
        "a = np.array(image)\n",
        "plt.imshow(a)\n"
      ],
      "execution_count": 137,
      "outputs": [
        {
          "output_type": "stream",
          "text": [
            "(512, 920)\n"
          ],
          "name": "stdout"
        },
        {
          "output_type": "execute_result",
          "data": {
            "text/plain": [
              "<matplotlib.image.AxesImage at 0x7f54d1f75e10>"
            ]
          },
          "metadata": {
            "tags": []
          },
          "execution_count": 137
        },
        {
          "output_type": "display_data",
          "data": {
            "image/png": "[encoded data removed]",
            "text/plain": [
              "<Figure size 432x288 with 1 Axes>"
            ]
          },
          "metadata": {
            "tags": [],
            "needs_background": "light"
          }
        }
      ]
    },
    {
      "cell_type": "code",
      "metadata": {
        "colab": {
          "base_uri": "https://localhost:8080/"
        },
        "id": "JuXiI67wfoVK",
        "outputId": "896a0e9d-f320-4cb8-d128-952dfa9302b7"
      },
      "source": [
        "a.shape"
      ],
      "execution_count": 114,
      "outputs": [
        {
          "output_type": "execute_result",
          "data": {
            "text/plain": [
              "(512, 920)"
            ]
          },
          "metadata": {
            "tags": []
          },
          "execution_count": 114
        }
      ]
    },
    {
      "cell_type": "code",
      "metadata": {
        "colab": {
          "base_uri": "https://localhost:8080/",
          "height": 255
        },
        "id": "FSGOe-jaWfW9",
        "outputId": "7a3a1629-804a-4df1-a193-823cd83b5ad4"
      },
      "source": [
        "import numpy as np\n",
        "image= image.convert('1')\n",
        "a = np.array(image)\n",
        "sum = 0\n",
        "flag = 0\n",
        "flag1 = 0\n",
        "\n",
        "#находим самую левую верхнюю палку и считаем толщину границы\n",
        "for i in range(a.shape[0]): \n",
        "  if flag1:\n",
        "    break\n",
        "  for j in range(a.shape[1]): \n",
        "    if (a[i,j] == False):\n",
        "      if flag != 0:\n",
        "        sh1 = i\n",
        "        sw1 = j # координаты точки\n",
        "\n",
        "      flag = 1\n",
        "      sum+= 1\n",
        "    else:\n",
        "      if flag == 1:\n",
        "        flag1 = 1\n",
        "        break\n",
        "flag = 0\n",
        "for i in range( a.shape[0]): # 2 tochki\n",
        "  if flag:\n",
        "    break\n",
        "  for j in range(sw1 + sum + 2,  a.shape[1]): \n",
        "    if (a[i,j] == False):      \n",
        "      flag = 1\n",
        "      sh2 = i\n",
        "      sw2 = j\n",
        "      break \n",
        "flag = 0\n",
        "for i in range( a.shape[1]): #3 tochki\n",
        "  if flag:\n",
        "    break\n",
        "  for j in range(a.shape[0]): \n",
        "    if (a[j,i] == False):      \n",
        "      flag = 1\n",
        "      sh3 = j\n",
        "      sw3 = i\n",
        "      break \n",
        "flag = 0\n",
        "for i in range( a.shape[1]): #4 tochki\n",
        "  if flag:\n",
        "    break\n",
        "  for j in range(sum + sh3 + 2, a.shape[0]): \n",
        "    if (a[j,i] == False):      \n",
        "      flag = 1\n",
        "      sh4 = j\n",
        "      sw4 = i\n",
        "      break\n",
        " \n",
        "dlina = sh4 - sh3 - sum# dlina kletki\n",
        "vert_med1 = int((2 * sw3 + dlina)/2 )\n",
        "vert_med2 = int((2 * (sum + sw1) + dlina)/2 )\n",
        "vert_med3= int((2 * (sum + sw2) + dlina)/2  )\n",
        "g_med1 = int((2 * sh1 + dlina)/2 )\n",
        "g_med2 = int((2 * (sum + sh3) + dlina)/2 )\n",
        "g_med3= int((2 * (sum + sh4) + dlina)/2)\n",
        "\n",
        "\n",
        "# мы посчитали средние точки в каждой клетке, теперь посчитаем сколько пикселей пересечет медиана в каждом квадратике и определим какие фиуры в кажлм квадрате\n",
        "# тут я тупо скопирую 9 раз, но монжо сделать лучше, мало времени просто \n",
        "\"\"\" 1 2 3 \n",
        "    4 5 6 \n",
        "    7 8 9 так занумерую значения в таблице \n",
        "\n",
        "\"\"\"\n",
        "\n",
        "\n",
        "def result(vert_med, g_med, sh1, sh2):\n",
        "  if (a[g_med, vert_med] == False):\n",
        "    return \"x\"\n",
        "  else:\n",
        "    for i in range(sh1 + 1, sh2 - 1):\n",
        "      if a[i][vert_med  + 1] == False:\n",
        "        return i\n",
        "  return \"#\"\n",
        "el1 = result(vert_med1, g_med1, sh1, sh1 + dlina)\n",
        "el2 = result(vert_med2, g_med1, sh1, sh1 + dlina)\n",
        "el3= result(vert_med3, g_med1, sh1, sh1 + dlina)\n",
        "el4=result(vert_med1, g_med2, sh3, sh3 +sum + dlina)\n",
        "el5= result(vert_med2, g_med2, sh3 + sum, sh3+  sum+ dlina)\n",
        "el6=result(vert_med3, g_med2, sh3+sum + 10, sh3+sum + dlina - 10)\n",
        "el7=result(vert_med1, g_med3, sh4+sum, sh4+sum + dlina)\n",
        "el8= result(vert_med2, g_med3, sh4+sum, sh4 +sum+ dlina)\n",
        "el9=result(vert_med3, g_med3, sh4+sum, sh4 +sum+ dlina)\n",
        "# теперь также просто переберу все выигрышные и нарисую черточку, если нужно \n",
        "\n",
        "def print_vert(sh):\n",
        "  for i in range(a.shape[0]):\n",
        "    for j in range(sh - 5, sh + 5):\n",
        "      a[i,j] = False\n",
        "el1 = 'x'\n",
        "el2= 'x'#dla primera chto risuet\n",
        "el3 = 'x'\n",
        "if(el1 == el2 and el2 == el3 and el1 != '#'):\n",
        "  print_vert(int(sw3 + dlina/2))\n",
        "if(el4 == el5 and el4 == el6 and el4 != '#'):\n",
        "  print_vert(int(sw3 + dlina/2))\n",
        "if(el9 == el7 and el7 == el8 and el7 != '#'):\n",
        "  print_vert(int(sw3 + dlina/2))\n",
        "\n",
        "def print_gor(sw):\n",
        "  for i in range(a.shape[1]):\n",
        "    for j in range(sw - 5, sw + 5):\n",
        "      a[j,i] = False\n",
        "def print_diag(sw, sh):\n",
        "  for i in range(sw,a.shape[0] ):\n",
        "    for j in range(sh, a.shape[1]): \n",
        "      for k in range(3):\n",
        "        a[i + k, j + k] = False\n",
        "\n",
        "      #дальше я не успел но тут чуть чуть просто сделать условие как в верт случае \n",
        "plt.imshow(a)\n",
        "\n",
        "\n",
        "\n",
        "\n",
        "  \n",
        "     "
      ],
      "execution_count": 239,
      "outputs": [
        {
          "output_type": "execute_result",
          "data": {
            "text/plain": [
              "<matplotlib.image.AxesImage at 0x7f54d1707ed0>"
            ]
          },
          "metadata": {
            "tags": []
          },
          "execution_count": 239
        },
        {
          "output_type": "display_data",
          "data": {
            "image/png": "[encoded data removed]",
            "text/plain": [
              "<Figure size 432x288 with 1 Axes>"
            ]
          },
          "metadata": {
            "tags": [],
            "needs_background": "light"
          }
        }
      ]
    },
    {
      "cell_type": "code",
      "metadata": {
        "colab": {
          "base_uri": "https://localhost:8080/"
        },
        "id": "MkyisTO4ns_a",
        "outputId": "ac01f51f-0028-4312-9d58-1e7976b77b66"
      },
      "source": [
        "sh4"
      ],
      "execution_count": 202,
      "outputs": [
        {
          "output_type": "execute_result",
          "data": {
            "text/plain": [
              "333"
            ]
          },
          "metadata": {
            "tags": []
          },
          "execution_count": 202
        }
      ]
    }
  ]
}